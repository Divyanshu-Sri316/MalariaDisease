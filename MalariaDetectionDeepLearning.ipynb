{
 "cells": [
  {
   "cell_type": "markdown",
   "id": "3c493c46",
   "metadata": {},
   "source": [
    "## Creating CNN Using Scratch And Transfer Learning\n",
    "\n",
    "Please download the dataset from the below url"
   ]
  },
  {
   "cell_type": "code",
   "execution_count": 1,
   "id": "e6145f09",
   "metadata": {},
   "outputs": [],
   "source": [
    "# import the libraries as shown below\n",
    "\n",
    "from tensorflow.keras.layers import Input, Lambda, Dense, Flatten,Conv2D\n",
    "from tensorflow.keras.models import Model\n",
    "from tensorflow.keras.applications.vgg19 import VGG19\n",
    "from tensorflow.keras.applications.resnet50 import preprocess_input\n",
    "from tensorflow.keras.preprocessing import image\n",
    "from tensorflow.keras.preprocessing.image import ImageDataGenerator,load_img\n",
    "from tensorflow.keras.models import Sequential\n",
    "import numpy as np\n",
    "from glob import glob\n",
    "import matplotlib.pyplot as plt\n",
    "import pandas as pd\n",
    "import seaborn as sns"
   ]
  },
  {
   "cell_type": "code",
   "execution_count": 2,
   "id": "3b97f5b7",
   "metadata": {},
   "outputs": [
    {
     "name": "stdout",
     "output_type": "stream",
     "text": [
      "2.10.0\n"
     ]
    }
   ],
   "source": [
    "import tensorflow as tf\n",
    "print(tf.__version__)"
   ]
  },
  {
   "cell_type": "code",
   "execution_count": 3,
   "id": "fdbd1b03",
   "metadata": {},
   "outputs": [],
   "source": [
    "# re-size all image to this\n",
    "IMAGE_SIZE=[224, 224]\n",
    "train_path='Dataset/Dataset/Train'\n",
    "valid_path='Dataset/Dataset/Test'"
   ]
  },
  {
   "cell_type": "code",
   "execution_count": 5,
   "id": "d86ebcf7",
   "metadata": {},
   "outputs": [
    {
     "name": "stdout",
     "output_type": "stream",
     "text": [
      "Downloading data from https://storage.googleapis.com/tensorflow/keras-applications/vgg19/vgg19_weights_tf_dim_ordering_tf_kernels_notop.h5\n",
      "80134624/80134624 [==============================] - 37s 0us/step\n"
     ]
    }
   ],
   "source": [
    "# Import the Vgg 19 library as shown below and add preprocessing layer to the front of VGG\n",
    "# Here we will be using imagenet weight\n",
    "\n",
    "vgg19 = VGG19(input_shape=IMAGE_SIZE + [3],weights = 'imagenet',include_top=False) \n"
   ]
  },
  {
   "cell_type": "code",
   "execution_count": 6,
   "id": "54b33e78",
   "metadata": {
    "scrolled": true
   },
   "outputs": [
    {
     "name": "stdout",
     "output_type": "stream",
     "text": [
      "Model: \"vgg19\"\n",
      "_________________________________________________________________\n",
      " Layer (type)                Output Shape              Param #   \n",
      "=================================================================\n",
      " input_1 (InputLayer)        [(None, 224, 224, 3)]     0         \n",
      "                                                                 \n",
      " block1_conv1 (Conv2D)       (None, 224, 224, 64)      1792      \n",
      "                                                                 \n",
      " block1_conv2 (Conv2D)       (None, 224, 224, 64)      36928     \n",
      "                                                                 \n",
      " block1_pool (MaxPooling2D)  (None, 112, 112, 64)      0         \n",
      "                                                                 \n",
      " block2_conv1 (Conv2D)       (None, 112, 112, 128)     73856     \n",
      "                                                                 \n",
      " block2_conv2 (Conv2D)       (None, 112, 112, 128)     147584    \n",
      "                                                                 \n",
      " block2_pool (MaxPooling2D)  (None, 56, 56, 128)       0         \n",
      "                                                                 \n",
      " block3_conv1 (Conv2D)       (None, 56, 56, 256)       295168    \n",
      "                                                                 \n",
      " block3_conv2 (Conv2D)       (None, 56, 56, 256)       590080    \n",
      "                                                                 \n",
      " block3_conv3 (Conv2D)       (None, 56, 56, 256)       590080    \n",
      "                                                                 \n",
      " block3_conv4 (Conv2D)       (None, 56, 56, 256)       590080    \n",
      "                                                                 \n",
      " block3_pool (MaxPooling2D)  (None, 28, 28, 256)       0         \n",
      "                                                                 \n",
      " block4_conv1 (Conv2D)       (None, 28, 28, 512)       1180160   \n",
      "                                                                 \n",
      " block4_conv2 (Conv2D)       (None, 28, 28, 512)       2359808   \n",
      "                                                                 \n",
      " block4_conv3 (Conv2D)       (None, 28, 28, 512)       2359808   \n",
      "                                                                 \n",
      " block4_conv4 (Conv2D)       (None, 28, 28, 512)       2359808   \n",
      "                                                                 \n",
      " block4_pool (MaxPooling2D)  (None, 14, 14, 512)       0         \n",
      "                                                                 \n",
      " block5_conv1 (Conv2D)       (None, 14, 14, 512)       2359808   \n",
      "                                                                 \n",
      " block5_conv2 (Conv2D)       (None, 14, 14, 512)       2359808   \n",
      "                                                                 \n",
      " block5_conv3 (Conv2D)       (None, 14, 14, 512)       2359808   \n",
      "                                                                 \n",
      " block5_conv4 (Conv2D)       (None, 14, 14, 512)       2359808   \n",
      "                                                                 \n",
      " block5_pool (MaxPooling2D)  (None, 7, 7, 512)         0         \n",
      "                                                                 \n",
      "=================================================================\n",
      "Total params: 20,024,384\n",
      "Trainable params: 20,024,384\n",
      "Non-trainable params: 0\n",
      "_________________________________________________________________\n"
     ]
    }
   ],
   "source": [
    "vgg19.summary()"
   ]
  },
  {
   "cell_type": "code",
   "execution_count": 7,
   "id": "5df47c1b",
   "metadata": {},
   "outputs": [],
   "source": [
    "# don't train existing weight\n",
    "for layer in vgg19.layers:\n",
    "    layer.trainable = False"
   ]
  },
  {
   "cell_type": "code",
   "execution_count": 8,
   "id": "e00ed744",
   "metadata": {},
   "outputs": [],
   "source": [
    "# useful for getting number of output classes\n",
    "folder = glob('Dataset/Dataset/Train/*')"
   ]
  },
  {
   "cell_type": "code",
   "execution_count": 9,
   "id": "d09b5baf",
   "metadata": {},
   "outputs": [
    {
     "data": {
      "text/plain": [
       "['Dataset/Dataset/Train\\\\Parasite', 'Dataset/Dataset/Train\\\\Uninfected']"
      ]
     },
     "execution_count": 9,
     "metadata": {},
     "output_type": "execute_result"
    }
   ],
   "source": [
    "folder"
   ]
  },
  {
   "cell_type": "code",
   "execution_count": 10,
   "id": "2e2f29ff",
   "metadata": {},
   "outputs": [],
   "source": [
    "# our Layer - you can add more if you want\n",
    "x=Flatten()(vgg19.output)"
   ]
  },
  {
   "cell_type": "code",
   "execution_count": 14,
   "id": "e6e82909",
   "metadata": {},
   "outputs": [],
   "source": [
    "prediction = Dense(len(folder), activation = 'softmax')(x)\n",
    "# create a model object\n",
    "model = Model(inputs=vgg19.input, outputs=prediction)"
   ]
  },
  {
   "cell_type": "code",
   "execution_count": 15,
   "id": "4d397f38",
   "metadata": {},
   "outputs": [
    {
     "name": "stdout",
     "output_type": "stream",
     "text": [
      "Model: \"model\"\n",
      "_________________________________________________________________\n",
      " Layer (type)                Output Shape              Param #   \n",
      "=================================================================\n",
      " input_1 (InputLayer)        [(None, 224, 224, 3)]     0         \n",
      "                                                                 \n",
      " block1_conv1 (Conv2D)       (None, 224, 224, 64)      1792      \n",
      "                                                                 \n",
      " block1_conv2 (Conv2D)       (None, 224, 224, 64)      36928     \n",
      "                                                                 \n",
      " block1_pool (MaxPooling2D)  (None, 112, 112, 64)      0         \n",
      "                                                                 \n",
      " block2_conv1 (Conv2D)       (None, 112, 112, 128)     73856     \n",
      "                                                                 \n",
      " block2_conv2 (Conv2D)       (None, 112, 112, 128)     147584    \n",
      "                                                                 \n",
      " block2_pool (MaxPooling2D)  (None, 56, 56, 128)       0         \n",
      "                                                                 \n",
      " block3_conv1 (Conv2D)       (None, 56, 56, 256)       295168    \n",
      "                                                                 \n",
      " block3_conv2 (Conv2D)       (None, 56, 56, 256)       590080    \n",
      "                                                                 \n",
      " block3_conv3 (Conv2D)       (None, 56, 56, 256)       590080    \n",
      "                                                                 \n",
      " block3_conv4 (Conv2D)       (None, 56, 56, 256)       590080    \n",
      "                                                                 \n",
      " block3_pool (MaxPooling2D)  (None, 28, 28, 256)       0         \n",
      "                                                                 \n",
      " block4_conv1 (Conv2D)       (None, 28, 28, 512)       1180160   \n",
      "                                                                 \n",
      " block4_conv2 (Conv2D)       (None, 28, 28, 512)       2359808   \n",
      "                                                                 \n",
      " block4_conv3 (Conv2D)       (None, 28, 28, 512)       2359808   \n",
      "                                                                 \n",
      " block4_conv4 (Conv2D)       (None, 28, 28, 512)       2359808   \n",
      "                                                                 \n",
      " block4_pool (MaxPooling2D)  (None, 14, 14, 512)       0         \n",
      "                                                                 \n",
      " block5_conv1 (Conv2D)       (None, 14, 14, 512)       2359808   \n",
      "                                                                 \n",
      " block5_conv2 (Conv2D)       (None, 14, 14, 512)       2359808   \n",
      "                                                                 \n",
      " block5_conv3 (Conv2D)       (None, 14, 14, 512)       2359808   \n",
      "                                                                 \n",
      " block5_conv4 (Conv2D)       (None, 14, 14, 512)       2359808   \n",
      "                                                                 \n",
      " block5_pool (MaxPooling2D)  (None, 7, 7, 512)         0         \n",
      "                                                                 \n",
      " flatten (Flatten)           (None, 25088)             0         \n",
      "                                                                 \n",
      " dense_2 (Dense)             (None, 2)                 50178     \n",
      "                                                                 \n",
      "=================================================================\n",
      "Total params: 20,074,562\n",
      "Trainable params: 50,178\n",
      "Non-trainable params: 20,024,384\n",
      "_________________________________________________________________\n"
     ]
    }
   ],
   "source": [
    "# view thw summary of model\n",
    "model.summary()"
   ]
  },
  {
   "cell_type": "code",
   "execution_count": 16,
   "id": "be3f343e",
   "metadata": {},
   "outputs": [],
   "source": [
    "from tensorflow.keras.layers import MaxPooling2D"
   ]
  },
  {
   "cell_type": "code",
   "execution_count": 17,
   "id": "c5b06260",
   "metadata": {},
   "outputs": [
    {
     "name": "stdout",
     "output_type": "stream",
     "text": [
      "Model: \"sequential\"\n",
      "_________________________________________________________________\n",
      " Layer (type)                Output Shape              Param #   \n",
      "=================================================================\n",
      " conv2d (Conv2D)             (None, 224, 224, 16)      208       \n",
      "                                                                 \n",
      " max_pooling2d (MaxPooling2D  (None, 112, 112, 16)     0         \n",
      " )                                                               \n",
      "                                                                 \n",
      " conv2d_1 (Conv2D)           (None, 112, 112, 16)      1040      \n",
      "                                                                 \n",
      " max_pooling2d_1 (MaxPooling  (None, 56, 56, 16)       0         \n",
      " 2D)                                                             \n",
      "                                                                 \n",
      " conv2d_2 (Conv2D)           (None, 56, 56, 16)        1040      \n",
      "                                                                 \n",
      " max_pooling2d_2 (MaxPooling  (None, 28, 28, 16)       0         \n",
      " 2D)                                                             \n",
      "                                                                 \n",
      " flatten_1 (Flatten)         (None, 12544)             0         \n",
      "                                                                 \n",
      " dense_3 (Dense)             (None, 500)               6272500   \n",
      "                                                                 \n",
      " dense_4 (Dense)             (None, 2)                 1002      \n",
      "                                                                 \n",
      "=================================================================\n",
      "Total params: 6,275,790\n",
      "Trainable params: 6,275,790\n",
      "Non-trainable params: 0\n",
      "_________________________________________________________________\n"
     ]
    }
   ],
   "source": [
    "### Create Model from scratch using CNN\n",
    "model=Sequential()\n",
    "model.add(Conv2D(filters=16,kernel_size=2,padding='same',activation='relu',input_shape=(224,224,3)))\n",
    "model.add(MaxPooling2D(pool_size=2))\n",
    "model.add(Conv2D(filters=16,kernel_size=2,padding='same',activation='relu'))\n",
    "model.add(MaxPooling2D(pool_size=2))\n",
    "model.add(Conv2D(filters=16,kernel_size=2,padding='same',activation='relu'))\n",
    "model.add(MaxPooling2D(pool_size=2))\n",
    "model.add(Flatten())\n",
    "model.add(Dense(500,activation='relu'))\n",
    "model.add(Dense(2,activation='softmax'))\n",
    "model.summary()"
   ]
  },
  {
   "cell_type": "code",
   "execution_count": 18,
   "id": "03ca4ea1",
   "metadata": {},
   "outputs": [],
   "source": [
    "# tell the model what cost and optimization mathod to use\n",
    "model.compile(loss='categorical_crossentropy',optimizer='adam',metrics=['accuracy'])"
   ]
  },
  {
   "cell_type": "code",
   "execution_count": 19,
   "id": "5ed19e58",
   "metadata": {},
   "outputs": [],
   "source": [
    "# Use the Image Data Generator to import the images from dataset\n",
    "from tensorflow.keras.preprocessing.image import ImageDataGenerator\n",
    "train_datagen = ImageDataGenerator(rescale=1./225,shear_range=0.2,zoom_range=0.2,horizontal_flip=True)\n",
    "test_datagen = ImageDataGenerator(rescale=1./225)"
   ]
  },
  {
   "cell_type": "code",
   "execution_count": 21,
   "id": "404ebe2f",
   "metadata": {},
   "outputs": [
    {
     "name": "stdout",
     "output_type": "stream",
     "text": [
      "Found 416 images belonging to 2 classes.\n"
     ]
    }
   ],
   "source": [
    "# Make sure you provide the same target size as initialised for the image\n",
    "training_set = train_datagen.flow_from_directory('Dataset/Dataset/Train', target_size=(224,224),batch_size=32,class_mode='categorical')"
   ]
  },
  {
   "cell_type": "code",
   "execution_count": 22,
   "id": "84e262ab",
   "metadata": {},
   "outputs": [
    {
     "data": {
      "text/plain": [
       "<keras.preprocessing.image.DirectoryIterator at 0x1c543c7e790>"
      ]
     },
     "execution_count": 22,
     "metadata": {},
     "output_type": "execute_result"
    }
   ],
   "source": [
    "training_set"
   ]
  },
  {
   "cell_type": "code",
   "execution_count": 25,
   "id": "f43bc9c9",
   "metadata": {},
   "outputs": [
    {
     "name": "stdout",
     "output_type": "stream",
     "text": [
      "Found 134 images belonging to 2 classes.\n"
     ]
    }
   ],
   "source": [
    "test_set = test_datagen.flow_from_directory('Dataset/Dataset/Test',target_size=(224,224),batch_size=32,class_mode='categorical')"
   ]
  },
  {
   "cell_type": "code",
   "execution_count": 26,
   "id": "bfe17da4",
   "metadata": {},
   "outputs": [
    {
     "name": "stdout",
     "output_type": "stream",
     "text": [
      "Epoch 1/10\n",
      "13/13 [==============================] - 10s 668ms/step - loss: 2.4280 - accuracy: 0.4808 - val_loss: 0.6494 - val_accuracy: 0.6791\n",
      "Epoch 2/10\n",
      "13/13 [==============================] - 9s 655ms/step - loss: 0.7188 - accuracy: 0.5120 - val_loss: 0.6875 - val_accuracy: 0.5224\n",
      "Epoch 3/10\n",
      "13/13 [==============================] - 8s 639ms/step - loss: 0.6867 - accuracy: 0.5409 - val_loss: 0.6831 - val_accuracy: 0.5597\n",
      "Epoch 4/10\n",
      "13/13 [==============================] - 8s 630ms/step - loss: 0.6818 - accuracy: 0.5913 - val_loss: 0.6709 - val_accuracy: 0.5746\n",
      "Epoch 5/10\n",
      "13/13 [==============================] - 8s 634ms/step - loss: 0.6804 - accuracy: 0.5721 - val_loss: 0.6911 - val_accuracy: 0.5000\n",
      "Epoch 6/10\n",
      "13/13 [==============================] - 8s 622ms/step - loss: 0.6561 - accuracy: 0.6058 - val_loss: 0.6497 - val_accuracy: 0.6791\n",
      "Epoch 7/10\n",
      "13/13 [==============================] - 8s 642ms/step - loss: 0.6724 - accuracy: 0.5793 - val_loss: 0.7829 - val_accuracy: 0.3731\n",
      "Epoch 8/10\n",
      "13/13 [==============================] - 8s 627ms/step - loss: 0.6330 - accuracy: 0.6250 - val_loss: 0.7652 - val_accuracy: 0.4104\n",
      "Epoch 9/10\n",
      "13/13 [==============================] - 8s 632ms/step - loss: 0.5987 - accuracy: 0.6779 - val_loss: 0.8166 - val_accuracy: 0.3806\n",
      "Epoch 10/10\n",
      "13/13 [==============================] - 9s 691ms/step - loss: 0.5664 - accuracy: 0.6731 - val_loss: 0.7870 - val_accuracy: 0.3433\n"
     ]
    }
   ],
   "source": [
    "# fit the model\n",
    "# Run the cell.It will take some time to execute\n",
    "r = model.fit(training_set,validation_data=test_set,epochs=10,steps_per_epoch=len(training_set),validation_steps=len(test_set))"
   ]
  },
  {
   "cell_type": "markdown",
   "id": "efd555d2",
   "metadata": {},
   "source": [
    "100 images === total images\n",
    "batch size=10 images\n",
    "1 iteration = 1 forward propagation + 1 back propagation => 100/10 =10 iteration => 1 epoch"
   ]
  },
  {
   "cell_type": "code",
   "execution_count": 27,
   "id": "a02fc27a",
   "metadata": {},
   "outputs": [
    {
     "data": {
      "image/png": "[encoded data removed]",
      "text/plain": [
       "<Figure size 432x288 with 1 Axes>"
      ]
     },
     "metadata": {
      "needs_background": "light"
     },
     "output_type": "display_data"
    },
    {
     "data": {
      "image/png": "[encoded data removed]",
      "text/plain": [
       "<Figure size 432x288 with 1 Axes>"
      ]
     },
     "metadata": {
      "needs_background": "light"
     },
     "output_type": "display_data"
    },
    {
     "data": {
      "text/plain": [
       "<Figure size 432x288 with 0 Axes>"
      ]
     },
     "metadata": {},
     "output_type": "display_data"
    }
   ],
   "source": [
    "# plot the loss\n",
    "plt.plot(r.history['loss'], label='train loss')\n",
    "plt.plot(r.history['val_loss'], label='val loss')\n",
    "plt.legend()\n",
    "plt.show()\n",
    "plt.savefig('LossVal_loss')\n",
    "\n",
    "# plot the accuracy\n",
    "plt.plot(r.history['accuracy'], label='train acc')\n",
    "plt.plot(r.history['val_accuracy'], label='val acc')\n",
    "plt.legend()\n",
    "plt.show()\n",
    "plt.savefig('AccVal_acc')"
   ]
  },
  {
   "cell_type": "code",
   "execution_count": 28,
   "id": "0677e4ec",
   "metadata": {},
   "outputs": [],
   "source": [
    "# save it as a h5 file\n",
    "from tensorflow.keras.models import load_model\n",
    "model.save('model_vgg19.h5')"
   ]
  },
  {
   "cell_type": "code",
   "execution_count": 29,
   "id": "a0ad7c34",
   "metadata": {},
   "outputs": [
    {
     "name": "stdout",
     "output_type": "stream",
     "text": [
      "5/5 [==============================] - 4s 90ms/step\n"
     ]
    }
   ],
   "source": [
    "y_pred=model.predict(test_set)"
   ]
  },
  {
   "cell_type": "code",
   "execution_count": 30,
   "id": "e667e498",
   "metadata": {},
   "outputs": [
    {
     "data": {
      "text/plain": [
       "array([[0.6744458 , 0.3255542 ],\n",
       "       [0.5532292 , 0.44677082],\n",
       "       [0.41850045, 0.58149946],\n",
       "       [0.6101402 , 0.38985974],\n",
       "       [0.702485  , 0.29751503],\n",
       "       [0.47447452, 0.52552557],\n",
       "       [0.5156172 , 0.48438284],\n",
       "       [0.74140424, 0.25859573],\n",
       "       [0.4134265 , 0.5865734 ],\n",
       "       [0.6016322 , 0.39836785],\n",
       "       [0.6137256 , 0.38627437],\n",
       "       [0.5099454 , 0.49005455],\n",
       "       [0.61797476, 0.38202527],\n",
       "       [0.32259002, 0.67740995],\n",
       "       [0.43967742, 0.5603226 ],\n",
       "       [0.54512554, 0.45487443],\n",
       "       [0.40314803, 0.59685194],\n",
       "       [0.61627823, 0.38372174],\n",
       "       [0.6562717 , 0.3437283 ],\n",
       "       [0.4081757 , 0.5918243 ],\n",
       "       [0.3278825 , 0.6721175 ],\n",
       "       [0.45183736, 0.5481627 ],\n",
       "       [0.36794737, 0.6320526 ],\n",
       "       [0.34229574, 0.6577043 ],\n",
       "       [0.6549    , 0.34509993],\n",
       "       [0.3945622 , 0.60543776],\n",
       "       [0.5289156 , 0.47108442],\n",
       "       [0.26620626, 0.73379374],\n",
       "       [0.46820128, 0.5317987 ],\n",
       "       [0.48623568, 0.5137643 ],\n",
       "       [0.3701491 , 0.62985086],\n",
       "       [0.43723705, 0.562763  ],\n",
       "       [0.37168196, 0.62831795],\n",
       "       [0.49328756, 0.50671244],\n",
       "       [0.56472117, 0.4352788 ],\n",
       "       [0.571098  , 0.4289019 ],\n",
       "       [0.41335875, 0.5866412 ],\n",
       "       [0.57240343, 0.42759657],\n",
       "       [0.49393272, 0.5060673 ],\n",
       "       [0.59330684, 0.4066932 ],\n",
       "       [0.45604914, 0.54395086],\n",
       "       [0.32353547, 0.67646456],\n",
       "       [0.50688934, 0.4931107 ],\n",
       "       [0.46673933, 0.5332607 ],\n",
       "       [0.3445469 , 0.6554531 ],\n",
       "       [0.3498613 , 0.6501387 ],\n",
       "       [0.547651  , 0.45234898],\n",
       "       [0.3406193 , 0.6593807 ],\n",
       "       [0.37741098, 0.622589  ],\n",
       "       [0.6680878 , 0.33191216],\n",
       "       [0.57980096, 0.42019904],\n",
       "       [0.6355867 , 0.36441335],\n",
       "       [0.5349523 , 0.46504778],\n",
       "       [0.5103583 , 0.48964176],\n",
       "       [0.45864347, 0.5413565 ],\n",
       "       [0.43217844, 0.56782156],\n",
       "       [0.47913587, 0.5208641 ],\n",
       "       [0.40653208, 0.5934679 ],\n",
       "       [0.42274585, 0.5772542 ],\n",
       "       [0.5135661 , 0.48643392],\n",
       "       [0.65052044, 0.3494796 ],\n",
       "       [0.25646192, 0.743538  ],\n",
       "       [0.3976966 , 0.6023034 ],\n",
       "       [0.6876919 , 0.31230807],\n",
       "       [0.4442042 , 0.5557958 ],\n",
       "       [0.7759152 , 0.2240848 ],\n",
       "       [0.32307237, 0.6769276 ],\n",
       "       [0.5200112 , 0.4799888 ],\n",
       "       [0.51754063, 0.48245934],\n",
       "       [0.5391368 , 0.46086314],\n",
       "       [0.6495211 , 0.35047886],\n",
       "       [0.51945484, 0.4805451 ],\n",
       "       [0.5540381 , 0.44596183],\n",
       "       [0.6085395 , 0.39146045],\n",
       "       [0.4444739 , 0.55552614],\n",
       "       [0.4873201 , 0.51268   ],\n",
       "       [0.42072266, 0.57927734],\n",
       "       [0.47105983, 0.52894014],\n",
       "       [0.7142354 , 0.28576458],\n",
       "       [0.3219783 , 0.6780217 ],\n",
       "       [0.6956229 , 0.30437708],\n",
       "       [0.27688697, 0.72311306],\n",
       "       [0.5403103 , 0.4596897 ],\n",
       "       [0.44324288, 0.55675715],\n",
       "       [0.4817632 , 0.5182368 ],\n",
       "       [0.39112785, 0.6088721 ],\n",
       "       [0.78102136, 0.21897867],\n",
       "       [0.4289912 , 0.5710088 ],\n",
       "       [0.38873968, 0.61126035],\n",
       "       [0.47452068, 0.5254793 ],\n",
       "       [0.52287626, 0.47712383],\n",
       "       [0.8080382 , 0.19196177],\n",
       "       [0.750154  , 0.24984598],\n",
       "       [0.54525995, 0.45474008],\n",
       "       [0.3187628 , 0.6812372 ],\n",
       "       [0.5890858 , 0.41091418],\n",
       "       [0.7373342 , 0.2626658 ],\n",
       "       [0.5264772 , 0.47352284],\n",
       "       [0.34402716, 0.65597284],\n",
       "       [0.50859773, 0.4914022 ],\n",
       "       [0.54110235, 0.45889768],\n",
       "       [0.6698113 , 0.33018866],\n",
       "       [0.52094656, 0.47905344],\n",
       "       [0.6681647 , 0.3318353 ],\n",
       "       [0.5515305 , 0.44846955],\n",
       "       [0.38030255, 0.61969745],\n",
       "       [0.38758788, 0.6124121 ],\n",
       "       [0.5995673 , 0.4004328 ],\n",
       "       [0.67946815, 0.32053185],\n",
       "       [0.5840685 , 0.4159315 ],\n",
       "       [0.32448718, 0.6755128 ],\n",
       "       [0.5906833 , 0.40931672],\n",
       "       [0.5748142 , 0.4251858 ],\n",
       "       [0.7313883 , 0.26861173],\n",
       "       [0.5678219 , 0.43217808],\n",
       "       [0.31610715, 0.68389285],\n",
       "       [0.51553893, 0.48446107],\n",
       "       [0.5304972 , 0.46950275],\n",
       "       [0.5948284 , 0.40517157],\n",
       "       [0.6673997 , 0.3326003 ],\n",
       "       [0.5435196 , 0.45648044],\n",
       "       [0.5849186 , 0.4150814 ],\n",
       "       [0.80913794, 0.19086206],\n",
       "       [0.43479884, 0.56520116],\n",
       "       [0.386709  , 0.613291  ],\n",
       "       [0.4507966 , 0.54920346],\n",
       "       [0.44502816, 0.5549718 ],\n",
       "       [0.688237  , 0.31176293],\n",
       "       [0.5755022 , 0.42449778],\n",
       "       [0.35619256, 0.6438075 ],\n",
       "       [0.4695321 , 0.53046787],\n",
       "       [0.5151731 , 0.48482683],\n",
       "       [0.52298254, 0.47701746],\n",
       "       [0.70180815, 0.2981919 ]], dtype=float32)"
      ]
     },
     "execution_count": 30,
     "metadata": {},
     "output_type": "execute_result"
    }
   ],
   "source": [
    "y_pred"
   ]
  },
  {
   "cell_type": "code",
   "execution_count": 31,
   "id": "14ef3e92",
   "metadata": {},
   "outputs": [],
   "source": [
    "import numpy as np\n",
    "y_pred = np.argmax(y_pred,axis =1)"
   ]
  },
  {
   "cell_type": "code",
   "execution_count": 32,
   "id": "3da36029",
   "metadata": {},
   "outputs": [
    {
     "data": {
      "text/plain": [
       "array([0, 0, 1, 0, 0, 1, 0, 0, 1, 0, 0, 0, 0, 1, 1, 0, 1, 0, 0, 1, 1, 1,\n",
       "       1, 1, 0, 1, 0, 1, 1, 1, 1, 1, 1, 1, 0, 0, 1, 0, 1, 0, 1, 1, 0, 1,\n",
       "       1, 1, 0, 1, 1, 0, 0, 0, 0, 0, 1, 1, 1, 1, 1, 0, 0, 1, 1, 0, 1, 0,\n",
       "       1, 0, 0, 0, 0, 0, 0, 0, 1, 1, 1, 1, 0, 1, 0, 1, 0, 1, 1, 1, 0, 1,\n",
       "       1, 1, 0, 0, 0, 0, 1, 0, 0, 0, 1, 0, 0, 0, 0, 0, 0, 1, 1, 0, 0, 0,\n",
       "       1, 0, 0, 0, 0, 1, 0, 0, 0, 0, 0, 0, 0, 1, 1, 1, 1, 0, 0, 1, 1, 0,\n",
       "       0, 0], dtype=int64)"
      ]
     },
     "execution_count": 32,
     "metadata": {},
     "output_type": "execute_result"
    }
   ],
   "source": [
    "y_pred"
   ]
  },
  {
   "cell_type": "code",
   "execution_count": null,
   "id": "8e98c993",
   "metadata": {},
   "outputs": [],
   "source": []
  },
  {
   "cell_type": "code",
   "execution_count": 33,
   "id": "1afdf88f",
   "metadata": {},
   "outputs": [],
   "source": [
    "from tensorflow.keras.models import load_model\n",
    "from tensorflow.keras.preprocessing import image"
   ]
  },
  {
   "cell_type": "code",
   "execution_count": 34,
   "id": "16dcf1e9",
   "metadata": {},
   "outputs": [],
   "source": [
    "model=load_model('model_vgg19.h5')"
   ]
  },
  {
   "cell_type": "code",
   "execution_count": 77,
   "id": "5c21bb02",
   "metadata": {},
   "outputs": [],
   "source": [
    "img=image.load_img('archive/cell_images/Uninfected/C165P126ThinF_IMG_20151117_171006_cell_141.png',target_size=(224,224))"
   ]
  },
  {
   "cell_type": "code",
   "execution_count": 94,
   "id": "8a113e40",
   "metadata": {},
   "outputs": [],
   "source": [
    "img=image.load_img('archive/cell_images/Parasitized/C184P145ThinF_IMG_20151203_104153_cell_177.png',target_size=(224,224))"
   ]
  },
  {
   "cell_type": "code",
   "execution_count": 95,
   "id": "6031eb11",
   "metadata": {},
   "outputs": [
    {
     "data": {
      "text/plain": [
       "array([[[0., 0., 0.],\n",
       "        [0., 0., 0.],\n",
       "        [0., 0., 0.],\n",
       "        ...,\n",
       "        [0., 0., 0.],\n",
       "        [0., 0., 0.],\n",
       "        [0., 0., 0.]],\n",
       "\n",
       "       [[0., 0., 0.],\n",
       "        [0., 0., 0.],\n",
       "        [0., 0., 0.],\n",
       "        ...,\n",
       "        [0., 0., 0.],\n",
       "        [0., 0., 0.],\n",
       "        [0., 0., 0.]],\n",
       "\n",
       "       [[0., 0., 0.],\n",
       "        [0., 0., 0.],\n",
       "        [0., 0., 0.],\n",
       "        ...,\n",
       "        [0., 0., 0.],\n",
       "        [0., 0., 0.],\n",
       "        [0., 0., 0.]],\n",
       "\n",
       "       ...,\n",
       "\n",
       "       [[0., 0., 0.],\n",
       "        [0., 0., 0.],\n",
       "        [0., 0., 0.],\n",
       "        ...,\n",
       "        [0., 0., 0.],\n",
       "        [0., 0., 0.],\n",
       "        [0., 0., 0.]],\n",
       "\n",
       "       [[0., 0., 0.],\n",
       "        [0., 0., 0.],\n",
       "        [0., 0., 0.],\n",
       "        ...,\n",
       "        [0., 0., 0.],\n",
       "        [0., 0., 0.],\n",
       "        [0., 0., 0.]],\n",
       "\n",
       "       [[0., 0., 0.],\n",
       "        [0., 0., 0.],\n",
       "        [0., 0., 0.],\n",
       "        ...,\n",
       "        [0., 0., 0.],\n",
       "        [0., 0., 0.],\n",
       "        [0., 0., 0.]]], dtype=float32)"
      ]
     },
     "execution_count": 95,
     "metadata": {},
     "output_type": "execute_result"
    }
   ],
   "source": [
    "x=image.img_to_array(img)\n",
    "x"
   ]
  },
  {
   "cell_type": "code",
   "execution_count": 96,
   "id": "b5719060",
   "metadata": {},
   "outputs": [
    {
     "data": {
      "text/plain": [
       "(224, 224, 3)"
      ]
     },
     "execution_count": 96,
     "metadata": {},
     "output_type": "execute_result"
    }
   ],
   "source": [
    "x.shape"
   ]
  },
  {
   "cell_type": "code",
   "execution_count": 97,
   "id": "66514759",
   "metadata": {},
   "outputs": [],
   "source": [
    "x=x/255"
   ]
  },
  {
   "cell_type": "code",
   "execution_count": 98,
   "id": "eea25040",
   "metadata": {},
   "outputs": [
    {
     "data": {
      "text/plain": [
       "(1, 224, 224, 3)"
      ]
     },
     "execution_count": 98,
     "metadata": {},
     "output_type": "execute_result"
    }
   ],
   "source": [
    "x=np.expand_dims(x,axis=0)\n",
    "img_data=preprocess_input(x)\n",
    "img_data.shape"
   ]
  },
  {
   "cell_type": "code",
   "execution_count": 99,
   "id": "3d3c42e7",
   "metadata": {},
   "outputs": [
    {
     "name": "stdout",
     "output_type": "stream",
     "text": [
      "1/1 [==============================] - 0s 24ms/step\n"
     ]
    },
    {
     "data": {
      "text/plain": [
       "array([[1., 0.]], dtype=float32)"
      ]
     },
     "execution_count": 99,
     "metadata": {},
     "output_type": "execute_result"
    }
   ],
   "source": [
    "model.predict(img_data)"
   ]
  },
  {
   "cell_type": "code",
   "execution_count": 100,
   "id": "d1439a41",
   "metadata": {},
   "outputs": [
    {
     "name": "stdout",
     "output_type": "stream",
     "text": [
      "1/1 [==============================] - 0s 24ms/step\n"
     ]
    }
   ],
   "source": [
    "a=np.argmax(model.predict(img_data),axis=1)"
   ]
  },
  {
   "cell_type": "code",
   "execution_count": 101,
   "id": "5e6c3ce8",
   "metadata": {},
   "outputs": [
    {
     "name": "stdout",
     "output_type": "stream",
     "text": [
      "Uninfected\n"
     ]
    }
   ],
   "source": [
    "if(a==1):\n",
    "    print(\"Infected\")\n",
    "else:\n",
    "    print(\"Uninfected\")"
   ]
  },
  {
   "cell_type": "code",
   "execution_count": null,
   "id": "8ac042a6",
   "metadata": {},
   "outputs": [],
   "source": []
  },
  {
   "cell_type": "code",
   "execution_count": null,
   "id": "6e61a82b",
   "metadata": {},
   "outputs": [],
   "source": []
  },
  {
   "cell_type": "code",
   "execution_count": null,
   "id": "5fca8555",
   "metadata": {},
   "outputs": [],
   "source": []
  },
  {
   "cell_type": "code",
   "execution_count": null,
   "id": "9cdf3162",
   "metadata": {},
   "outputs": [],
   "source": []
  },
  {
   "cell_type": "code",
   "execution_count": null,
   "id": "e1fece29",
   "metadata": {},
   "outputs": [],
   "source": []
  },
  {
   "cell_type": "code",
   "execution_count": null,
   "id": "b73899f2",
   "metadata": {},
   "outputs": [],
   "source": []
  },
  {
   "cell_type": "code",
   "execution_count": null,
   "id": "dfc78dc1",
   "metadata": {},
   "outputs": [],
   "source": []
  }
 ],
 "metadata": {
  "kernelspec": {
   "display_name": "Python 3 (ipykernel)",
   "language": "python",
   "name": "python3"
  },
  "language_info": {
   "codemirror_mode": {
    "name": "ipython",
    "version": 3
   },
   "file_extension": ".py",
   "mimetype": "text/x-python",
   "name": "python",
   "nbconvert_exporter": "python",
   "pygments_lexer": "ipython3",
   "version": "3.9.12"
  }
 },
 "nbformat": 4,
 "nbformat_minor": 5
}
